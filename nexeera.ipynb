{
 "cells": [
  {
   "cell_type": "markdown",
   "id": "496489b8-58ca-4b49-935f-00f2f8acd357",
   "metadata": {},
   "source": [
    "# Bloco 1"
   ]
  },
  {
   "cell_type": "code",
   "execution_count": 27,
   "id": "42a6b60a-0a09-41de-aa73-d3ed7f32b061",
   "metadata": {},
   "outputs": [],
   "source": [
    "# Bibliotecas necessárias\n",
    "\n",
    "from pyspark.sql import SparkSession, Row\n",
    "from delta import *\n",
    "from pyspark.sql.types import StructType, StructField, IntegerType, StringType, DoubleType, DateType\n",
    "from pyspark.sql.functions import sum"
   ]
  },
  {
   "cell_type": "code",
   "execution_count": 1,
   "id": "ad39461a-58d5-490c-8b2e-a0e1a875ba44",
   "metadata": {},
   "outputs": [
    {
     "name": "stdout",
     "output_type": "stream",
     "text": [
      "Spark Session Configurations:\n",
      "[('spark.app.initial.jar.urls', 'spark://28ff82eaa3cc:38477/jars/io.delta_delta-spark_2.12-3.2.0.jar,spark://28ff82eaa3cc:38477/jars/org.antlr_antlr4-runtime-4.9.3.jar,spark://28ff82eaa3cc:38477/jars/io.delta_delta-storage-3.2.0.jar'), ('spark.driver.port', '38477'), ('spark.jars', 'file:///home/jovyan/.ivy2/jars/io.delta_delta-spark_2.12-3.2.0.jar,file:///home/jovyan/.ivy2/jars/io.delta_delta-storage-3.2.0.jar,file:///home/jovyan/.ivy2/jars/org.antlr_antlr4-runtime-4.9.3.jar'), ('spark.executor.id', 'driver'), ('spark.app.startTime', '1722609809443'), ('spark.app.initial.file.urls', 'file:///home/jovyan/.ivy2/jars/io.delta_delta-storage-3.2.0.jar,file:///home/jovyan/.ivy2/jars/org.antlr_antlr4-runtime-4.9.3.jar,file:///home/jovyan/.ivy2/jars/io.delta_delta-spark_2.12-3.2.0.jar'), ('spark.repl.local.jars', 'file:///home/jovyan/.ivy2/jars/io.delta_delta-spark_2.12-3.2.0.jar,file:///home/jovyan/.ivy2/jars/io.delta_delta-storage-3.2.0.jar,file:///home/jovyan/.ivy2/jars/org.antlr_antlr4-runtime-4.9.3.jar'), ('spark.files', 'file:///home/jovyan/.ivy2/jars/io.delta_delta-spark_2.12-3.2.0.jar,file:///home/jovyan/.ivy2/jars/io.delta_delta-storage-3.2.0.jar,file:///home/jovyan/.ivy2/jars/org.antlr_antlr4-runtime-4.9.3.jar'), ('spark.jars.packages', 'io.delta:delta-spark_2.12:3.2.0'), ('spark.driver.extraJavaOptions', '-Djava.net.preferIPv6Addresses=false -XX:+IgnoreUnrecognizedVMOptions --add-opens=java.base/java.lang=ALL-UNNAMED --add-opens=java.base/java.lang.invoke=ALL-UNNAMED --add-opens=java.base/java.lang.reflect=ALL-UNNAMED --add-opens=java.base/java.io=ALL-UNNAMED --add-opens=java.base/java.net=ALL-UNNAMED --add-opens=java.base/java.nio=ALL-UNNAMED --add-opens=java.base/java.util=ALL-UNNAMED --add-opens=java.base/java.util.concurrent=ALL-UNNAMED --add-opens=java.base/java.util.concurrent.atomic=ALL-UNNAMED --add-opens=java.base/sun.nio.ch=ALL-UNNAMED --add-opens=java.base/sun.nio.cs=ALL-UNNAMED --add-opens=java.base/sun.security.action=ALL-UNNAMED --add-opens=java.base/sun.util.calendar=ALL-UNNAMED --add-opens=java.security.jgss/sun.security.krb5=ALL-UNNAMED -Djdk.reflect.useDirectMethodHandle=false'), ('spark.sql.extensions', 'io.delta.sql.DeltaSparkSessionExtension'), ('spark.rdd.compress', 'True'), ('spark.app.id', 'local-1722609810415'), ('spark.serializer.objectStreamReset', '100'), ('spark.master', 'local[*]'), ('spark.submit.pyFiles', '/home/jovyan/.ivy2/jars/io.delta_delta-spark_2.12-3.2.0.jar,/home/jovyan/.ivy2/jars/io.delta_delta-storage-3.2.0.jar,/home/jovyan/.ivy2/jars/org.antlr_antlr4-runtime-4.9.3.jar'), ('spark.submit.deployMode', 'client'), ('spark.app.submitTime', '1722609809320'), ('spark.app.name', 'Delta Lake Test'), ('spark.driver.host', '28ff82eaa3cc'), ('spark.ui.showConsoleProgress', 'true'), ('spark.sql.catalog.spark_catalog', 'org.apache.spark.sql.delta.catalog.DeltaCatalog'), ('spark.executor.extraJavaOptions', '-Djava.net.preferIPv6Addresses=false -XX:+IgnoreUnrecognizedVMOptions --add-opens=java.base/java.lang=ALL-UNNAMED --add-opens=java.base/java.lang.invoke=ALL-UNNAMED --add-opens=java.base/java.lang.reflect=ALL-UNNAMED --add-opens=java.base/java.io=ALL-UNNAMED --add-opens=java.base/java.net=ALL-UNNAMED --add-opens=java.base/java.nio=ALL-UNNAMED --add-opens=java.base/java.util=ALL-UNNAMED --add-opens=java.base/java.util.concurrent=ALL-UNNAMED --add-opens=java.base/java.util.concurrent.atomic=ALL-UNNAMED --add-opens=java.base/sun.nio.ch=ALL-UNNAMED --add-opens=java.base/sun.nio.cs=ALL-UNNAMED --add-opens=java.base/sun.security.action=ALL-UNNAMED --add-opens=java.base/sun.util.calendar=ALL-UNNAMED --add-opens=java.security.jgss/sun.security.krb5=ALL-UNNAMED -Djdk.reflect.useDirectMethodHandle=false')]\n"
     ]
    }
   ],
   "source": [
    "# Configurar a sessão Spark com suporte ao Delta Lake\n",
    "builder = SparkSession.builder \\\n",
    "    .appName(\"Delta Lake Test\") \\\n",
    "    .config(\"spark.sql.extensions\", \"io.delta.sql.DeltaSparkSessionExtension\") \\\n",
    "    .config(\"spark.sql.catalog.spark_catalog\", \"org.apache.spark.sql.delta.catalog.DeltaCatalog\")\n",
    "\n",
    "spark = configure_spark_with_delta_pip(builder).getOrCreate()\n",
    "\n",
    "# Verificar a configuração da sessão Spark\n",
    "print(\"Spark Session Configurations:\")\n",
    "print(spark.sparkContext.getConf().getAll())"
   ]
  },
  {
   "cell_type": "markdown",
   "id": "34af26a6-9a65-47af-b648-a461c47a2219",
   "metadata": {},
   "source": [
    "# Bloco 2"
   ]
  },
  {
   "cell_type": "code",
   "execution_count": 2,
   "id": "d6e07e0f-db00-4821-a1e5-69b383c9026c",
   "metadata": {},
   "outputs": [
    {
     "name": "stdout",
     "output_type": "stream",
     "text": [
      "DataFrame Carregado do CSV:\n",
      "+------------+--------------+-------+--------------+--------------------+\n",
      "|id_transacao|data_transacao|  valor|tipo_transacao|           descricao|\n",
      "+------------+--------------+-------+--------------+--------------------+\n",
      "|           1|    2024-07-01|1500.45|      DEPOSITO| Depósito de Salário|\n",
      "|           2|    2024-07-02|-200.32|         SAQUE|        Saque em ATM|\n",
      "|           3|    2024-07-03| -50.67|     PAGAMENTO|           Cafeteria|\n",
      "|           4|    2024-07-03|2000.78| TRANSFERENCIA|Transferência par...|\n",
      "|           5|    2024-07-04|-100.25|     PAGAMENTO|        Supermercado|\n",
      "|           6|    2024-07-04| -30.12|     PAGAMENTO|  Transporte Público|\n",
      "|           7|    2024-07-05|2500.89|      DEPOSITO| Pagamento Freelance|\n",
      "|           8|    2024-07-06|-300.55|         SAQUE|        Saque em ATM|\n",
      "|           9|    2024-07-07|  -20.3|     PAGAMENTO|   Assinatura Online|\n",
      "|          10|    2024-07-07|  500.4|      DEPOSITO|Retorno de Invest...|\n",
      "|          11|    2024-07-08|3200.99|      DEPOSITO|             Salário|\n",
      "|          12|    2024-07-09|-450.23|     PAGAMENTO|             Aluguel|\n",
      "|          13|    2024-07-10| -75.35|     PAGAMENTO|            Academia|\n",
      "|          14|    2024-07-11| -120.5|     PAGAMENTO|         Restaurante|\n",
      "|          15|    2024-07-12|1800.75| TRANSFERENCIA|Transferência de ...|\n",
      "|          16|    2024-07-13|  300.1|      DEPOSITO|           Reembolso|\n",
      "|          17|    2024-07-14| -60.55|     PAGAMENTO|                Uber|\n",
      "|          18|    2024-07-15|  750.9| TRANSFERENCIA|Transferência par...|\n",
      "|          19|    2024-07-16| -15.45|     PAGAMENTO|                Café|\n",
      "|          20|    2024-07-17|1000.65|      DEPOSITO|               Bônus|\n",
      "+------------+--------------+-------+--------------+--------------------+\n",
      "only showing top 20 rows\n",
      "\n"
     ]
    }
   ],
   "source": [
    "# Ler o arquivo CSV\n",
    "csv_file_path = \"/home/jovyan/work/financial_data.csv\"\n",
    "df = spark.read.csv(csv_file_path, header=True, inferSchema=True)\n",
    "\n",
    "# Mostrar os dados carregados\n",
    "print(\"DataFrame Carregado do CSV:\")\n",
    "df.show()"
   ]
  },
  {
   "cell_type": "markdown",
   "id": "ec2f0bf2-c4d5-4da5-9f39-fb7fb642021a",
   "metadata": {},
   "source": [
    "# Bloco 3"
   ]
  },
  {
   "cell_type": "code",
   "execution_count": 3,
   "id": "22540b0c-b1dc-4042-85ce-83cc2d832e21",
   "metadata": {},
   "outputs": [
    {
     "name": "stdout",
     "output_type": "stream",
     "text": [
      "Schema do DataFrame Carregado do CSV:\n",
      "root\n",
      " |-- id_transacao: integer (nullable = true)\n",
      " |-- data_transacao: date (nullable = true)\n",
      " |-- valor: double (nullable = true)\n",
      " |-- tipo_transacao: string (nullable = true)\n",
      " |-- descricao: string (nullable = true)\n",
      "\n"
     ]
    }
   ],
   "source": [
    "# Verificar os tipos de cada coluna\n",
    "print(\"Schema do DataFrame Carregado do CSV:\")\n",
    "df.printSchema()"
   ]
  },
  {
   "cell_type": "markdown",
   "id": "83ceba27-142b-4ed2-b8e3-95fe86272d83",
   "metadata": {},
   "source": [
    "# Bloco 4"
   ]
  },
  {
   "cell_type": "code",
   "execution_count": 4,
   "id": "25759e7b-7e35-4cb7-9ce5-68638b0b2c0a",
   "metadata": {},
   "outputs": [
    {
     "name": "stdout",
     "output_type": "stream",
     "text": [
      "DataFrame com Transações com Valor Acima de 1000:\n",
      "+------------+--------------+-------+--------------+--------------------+\n",
      "|id_transacao|data_transacao|  valor|tipo_transacao|           descricao|\n",
      "+------------+--------------+-------+--------------+--------------------+\n",
      "|           1|    2024-07-01|1500.45|      DEPOSITO| Depósito de Salário|\n",
      "|           4|    2024-07-03|2000.78| TRANSFERENCIA|Transferência par...|\n",
      "|           7|    2024-07-05|2500.89|      DEPOSITO| Pagamento Freelance|\n",
      "|          11|    2024-07-08|3200.99|      DEPOSITO|             Salário|\n",
      "|          15|    2024-07-12|1800.75| TRANSFERENCIA|Transferência de ...|\n",
      "|          20|    2024-07-17|1000.65|      DEPOSITO|               Bônus|\n",
      "|          22|    2024-07-19| 2200.8| TRANSFERENCIA|Transferência par...|\n",
      "|          28|    2024-07-25| 2000.1| TRANSFERENCIA|Transferência de ...|\n",
      "|          30|    2024-07-27|2750.75|      DEPOSITO|             Salário|\n",
      "|          34|    2024-08-01|1600.95|      DEPOSITO| Depósito de Salário|\n",
      "|          37|    2024-08-03| 2150.6| TRANSFERENCIA|Transferência par...|\n",
      "|          40|    2024-08-05| 2650.4|      DEPOSITO| Pagamento Freelance|\n",
      "|          44|    2024-08-08|3300.75|      DEPOSITO|         Bônus Anual|\n",
      "|          48|    2024-08-10|1350.45|      DEPOSITO|    Reembolso Médico|\n",
      "+------------+--------------+-------+--------------+--------------------+\n",
      "\n"
     ]
    }
   ],
   "source": [
    "# Filtrar as transações com valor acima de 1000\n",
    "df_filtrado = df.filter(df['valor'] > 1000)\n",
    "\n",
    "# Mostrar os dados filtrados\n",
    "print(\"DataFrame com Transações com Valor Acima de 1000:\")\n",
    "df_filtrado.show()"
   ]
  },
  {
   "cell_type": "markdown",
   "id": "50d525ab-12d9-43dc-9b77-3a766861e352",
   "metadata": {},
   "source": [
    "# Bloco 5 e 6"
   ]
  },
  {
   "cell_type": "code",
   "execution_count": 6,
   "id": "fa0c0f7e-b201-4c0f-9a14-ce20800e8d40",
   "metadata": {},
   "outputs": [],
   "source": [
    "# Salvar o DataFrame filtrado como uma tabela Delta particionada pela data da transação\n",
    "delta_caminho = \"/home/jovyan/work/delta/financial_data\"\n",
    "df_filtrado.write.format(\"delta\").partitionBy(\"data_transacao\").mode(\"overwrite\").save(delta_caminho)\n"
   ]
  },
  {
   "cell_type": "code",
   "execution_count": 9,
   "id": "07f472f0-78f4-41d7-b518-fdfa1f84a291",
   "metadata": {},
   "outputs": [
    {
     "name": "stdout",
     "output_type": "stream",
     "text": [
      "DataFrame Carregado da Tabela Delta (Transações com Valor Acima de 1000):\n",
      "+------------+--------------+-------+--------------+--------------------+\n",
      "|id_transacao|data_transacao|  valor|tipo_transacao|           descricao|\n",
      "+------------+--------------+-------+--------------+--------------------+\n",
      "|          28|    2024-07-25| 2000.1| TRANSFERENCIA|Transferência de ...|\n",
      "|          37|    2024-08-03| 2150.6| TRANSFERENCIA|Transferência par...|\n",
      "|           4|    2024-07-03|2000.78| TRANSFERENCIA|Transferência par...|\n",
      "|          22|    2024-07-19| 2200.8| TRANSFERENCIA|Transferência par...|\n",
      "|          15|    2024-07-12|1800.75| TRANSFERENCIA|Transferência de ...|\n",
      "|          34|    2024-08-01|1600.95|      DEPOSITO| Depósito de Salário|\n",
      "|           1|    2024-07-01|1500.45|      DEPOSITO| Depósito de Salário|\n",
      "|          40|    2024-08-05| 2650.4|      DEPOSITO| Pagamento Freelance|\n",
      "|           7|    2024-07-05|2500.89|      DEPOSITO| Pagamento Freelance|\n",
      "|          48|    2024-08-10|1350.45|      DEPOSITO|    Reembolso Médico|\n",
      "|          44|    2024-08-08|3300.75|      DEPOSITO|         Bônus Anual|\n",
      "|          11|    2024-07-08|3200.99|      DEPOSITO|             Salário|\n",
      "|          30|    2024-07-27|2750.75|      DEPOSITO|             Salário|\n",
      "|          20|    2024-07-17|1000.65|      DEPOSITO|               Bônus|\n",
      "+------------+--------------+-------+--------------+--------------------+\n",
      "\n"
     ]
    }
   ],
   "source": [
    "# Ler a tabela Delta\n",
    "df_delta = spark.read.format(\"delta\").load(delta_caminho)\n",
    "\n",
    "# Mostrar os dados carregados da tabela Delta\n",
    "print(\"DataFrame Carregado da Tabela Delta (Transações com Valor Acima de 1000):\")\n",
    "df_delta.show()"
   ]
  },
  {
   "cell_type": "code",
   "execution_count": 10,
   "id": "81db605d-1cd4-4484-9f44-cc24320b2c46",
   "metadata": {},
   "outputs": [
    {
     "name": "stdout",
     "output_type": "stream",
     "text": [
      "Schema do DataFrame Carregado da Tabela Delta:\n",
      "root\n",
      " |-- id_transacao: integer (nullable = true)\n",
      " |-- data_transacao: date (nullable = true)\n",
      " |-- valor: double (nullable = true)\n",
      " |-- tipo_transacao: string (nullable = true)\n",
      " |-- descricao: string (nullable = true)\n",
      "\n"
     ]
    }
   ],
   "source": [
    "# Verificar os tipos de cada coluna na tabela Delta\n",
    "print(\"Schema do DataFrame Carregado da Tabela Delta:\")\n",
    "df_delta.printSchema()"
   ]
  },
  {
   "cell_type": "code",
   "execution_count": 9,
   "id": "997c0fde-8d99-457f-a7a8-75168f28f2de",
   "metadata": {},
   "outputs": [
    {
     "name": "stdout",
     "output_type": "stream",
     "text": [
      "DataFrame Carregado da Tabela Delta (Transações com Valor Acima de 1000):\n",
      "+------------+--------------+-------+--------------+--------------------+\n",
      "|id_transacao|data_transacao|  valor|tipo_transacao|           descricao|\n",
      "+------------+--------------+-------+--------------+--------------------+\n",
      "|          28|    2024-07-25| 2000.1| TRANSFERENCIA|Transferência de ...|\n",
      "|          37|    2024-08-03| 2150.6| TRANSFERENCIA|Transferência par...|\n",
      "|           4|    2024-07-03|2000.78| TRANSFERENCIA|Transferência par...|\n",
      "|          22|    2024-07-19| 2200.8| TRANSFERENCIA|Transferência par...|\n",
      "|          15|    2024-07-12|1800.75| TRANSFERENCIA|Transferência de ...|\n",
      "|          34|    2024-08-01|1600.95|      DEPOSITO| Depósito de Salário|\n",
      "|           1|    2024-07-01|1500.45|      DEPOSITO| Depósito de Salário|\n",
      "|          40|    2024-08-05| 2650.4|      DEPOSITO| Pagamento Freelance|\n",
      "|           7|    2024-07-05|2500.89|      DEPOSITO| Pagamento Freelance|\n",
      "|          48|    2024-08-10|1350.45|      DEPOSITO|    Reembolso Médico|\n",
      "|          44|    2024-08-08|3300.75|      DEPOSITO|         Bônus Anual|\n",
      "|          11|    2024-07-08|3200.99|      DEPOSITO|             Salário|\n",
      "|          30|    2024-07-27|2750.75|      DEPOSITO|             Salário|\n",
      "|          20|    2024-07-17|1000.65|      DEPOSITO|               Bônus|\n",
      "+------------+--------------+-------+--------------+--------------------+\n",
      "\n"
     ]
    }
   ],
   "source": [
    "# Ler a tabela Delta\n",
    "df_delta = spark.read.format(\"delta\").load(delta_caminho)\n",
    "\n",
    "# Mostrar os dados carregados da tabela Delta\n",
    "print(\"DataFrame Carregado da Tabela Delta (Transações com Valor Acima de 1000):\")\n",
    "df_delta.show()"
   ]
  },
  {
   "cell_type": "markdown",
   "id": "591bf898-bdb6-41e7-a1df-018f68e296c4",
   "metadata": {},
   "source": [
    "# Bloco 7"
   ]
  },
  {
   "cell_type": "code",
   "execution_count": 11,
   "id": "ceed757e-5e7a-4d03-9440-8e3ddc03adc4",
   "metadata": {},
   "outputs": [
    {
     "name": "stdout",
     "output_type": "stream",
     "text": [
      "Transações com Valor Acima de 2000:\n",
      "+------------+--------------+-------+--------------+--------------------+\n",
      "|id_transacao|data_transacao|  valor|tipo_transacao|           descricao|\n",
      "+------------+--------------+-------+--------------+--------------------+\n",
      "|          28|    2024-07-25| 2000.1| TRANSFERENCIA|Transferência de ...|\n",
      "|          37|    2024-08-03| 2150.6| TRANSFERENCIA|Transferência par...|\n",
      "|           4|    2024-07-03|2000.78| TRANSFERENCIA|Transferência par...|\n",
      "|          22|    2024-07-19| 2200.8| TRANSFERENCIA|Transferência par...|\n",
      "|          40|    2024-08-05| 2650.4|      DEPOSITO| Pagamento Freelance|\n",
      "|           7|    2024-07-05|2500.89|      DEPOSITO| Pagamento Freelance|\n",
      "|          44|    2024-08-08|3300.75|      DEPOSITO|         Bônus Anual|\n",
      "|          11|    2024-07-08|3200.99|      DEPOSITO|             Salário|\n",
      "|          30|    2024-07-27|2750.75|      DEPOSITO|             Salário|\n",
      "+------------+--------------+-------+--------------+--------------------+\n",
      "\n"
     ]
    }
   ],
   "source": [
    "# Consultar transações com valor acima de 2000\n",
    "df_acima_2000 = df_delta.filter(df_delta['valor'] > 2000)\n",
    "\n",
    "# Mostrar os dados filtrados\n",
    "print(\"Transações com Valor Acima de 2000:\")\n",
    "df_acima_2000.show()"
   ]
  },
  {
   "cell_type": "markdown",
   "id": "559529cd-1933-4db1-a64f-cad9b1966e25",
   "metadata": {},
   "source": [
    "# Bloco 8"
   ]
  },
  {
   "cell_type": "code",
   "execution_count": 13,
   "id": "a114d883-f987-45b2-ae75-c5fe562a4035",
   "metadata": {},
   "outputs": [
    {
     "name": "stdout",
     "output_type": "stream",
     "text": [
      "+-------+-----------------------+---------+------------------------------------------------------+--------------------------------------------------------------+-----------------------------------+\n",
      "|version|timestamp              |operation|operationParameters                                   |operationMetrics                                              |engineInfo                         |\n",
      "+-------+-----------------------+---------+------------------------------------------------------+--------------------------------------------------------------+-----------------------------------+\n",
      "|0      |2024-08-02 14:51:24.522|WRITE    |{mode -> Overwrite, partitionBy -> [\"data_transacao\"]}|{numFiles -> 14, numOutputRows -> 14, numOutputBytes -> 19597}|Apache-Spark/3.5.0 Delta-Lake/3.2.0|\n",
      "+-------+-----------------------+---------+------------------------------------------------------+--------------------------------------------------------------+-----------------------------------+\n",
      "\n"
     ]
    }
   ],
   "source": [
    "# Exibir o histórico de versões da tabela Delta\n",
    "history_df = spark.sql(f\"DESCRIBE HISTORY delta.`{delta_caminho}`\")\n",
    "history_df.select(\"version\", \"timestamp\", \"operation\", \"operationParameters\", \"operationMetrics\", \"engineInfo\").show(truncate=False)"
   ]
  },
  {
   "cell_type": "markdown",
   "id": "ea80feb7-681b-46c0-9337-99062a0aa1e5",
   "metadata": {},
   "source": [
    "# Bloco 9"
   ]
  },
  {
   "cell_type": "code",
   "execution_count": 22,
   "id": "aa9e9f3c-d744-463c-906a-8612ca1589d1",
   "metadata": {},
   "outputs": [],
   "source": [
    "# Dados novos a serem adicionados\n",
    "novos_dados = [\n",
    "    (11, '2024-07-08', 3000.95, 'DEPOSITO', 'Bônus Anual'),\n",
    "    (12, '2024-07-08', -150.40, 'PAGAMENTO', 'Restaurante'),\n",
    "    (13, '2024-07-09', 800.75, 'TRANSFERENCIA', 'Transferência da Conta Corrente'),\n",
    "    (14, '2024-07-09', -200.22, 'PAGAMENTO', 'Cinema')\n",
    "]\n",
    "\n",
    "# Esquema dos novos dados\n",
    "novos_dados_schema = StructType([\n",
    "    StructField(\"id_transacao\", IntegerType(), True),\n",
    "    StructField(\"data_transacao\", StringType(), True),\n",
    "    StructField(\"valor\", DoubleType(), True),\n",
    "    StructField(\"tipo_transacao\", StringType(), True),\n",
    "    StructField(\"descricao\", StringType(), True)\n",
    "])\n",
    "\n",
    "# Criar DataFrame com os novos dados usando o mesmo esquema\n",
    "novos_dados_df = spark.createDataFrame(novos_dados, novos_dados_schema)"
   ]
  },
  {
   "cell_type": "code",
   "execution_count": 23,
   "id": "df3ca07d-1fa0-4147-aa61-25520bae76a5",
   "metadata": {},
   "outputs": [
    {
     "name": "stdout",
     "output_type": "stream",
     "text": [
      "DataFrame Carregado da Tabela Delta Atualizada:\n",
      "+------------+--------------+-------+--------------+--------------------+\n",
      "|id_transacao|data_transacao|  valor|tipo_transacao|           descricao|\n",
      "+------------+--------------+-------+--------------+--------------------+\n",
      "|          13|    2024-07-09| 800.75| TRANSFERENCIA|Transferência da ...|\n",
      "|          28|    2024-07-25| 2000.1| TRANSFERENCIA|Transferência de ...|\n",
      "|          37|    2024-08-03| 2150.6| TRANSFERENCIA|Transferência par...|\n",
      "|           4|    2024-07-03|2000.78| TRANSFERENCIA|Transferência par...|\n",
      "|          22|    2024-07-19| 2200.8| TRANSFERENCIA|Transferência par...|\n",
      "|          15|    2024-07-12|1800.75| TRANSFERENCIA|Transferência de ...|\n",
      "|          34|    2024-08-01|1600.95|      DEPOSITO| Depósito de Salário|\n",
      "|           1|    2024-07-01|1500.45|      DEPOSITO| Depósito de Salário|\n",
      "|          40|    2024-08-05| 2650.4|      DEPOSITO| Pagamento Freelance|\n",
      "|           7|    2024-07-05|2500.89|      DEPOSITO| Pagamento Freelance|\n",
      "|          48|    2024-08-10|1350.45|      DEPOSITO|    Reembolso Médico|\n",
      "|          11|    2024-07-08|3000.95|      DEPOSITO|         Bônus Anual|\n",
      "|          44|    2024-08-08|3300.75|      DEPOSITO|         Bônus Anual|\n",
      "|          12|    2024-07-08| -150.4|     PAGAMENTO|         Restaurante|\n",
      "|          11|    2024-07-08|3200.99|      DEPOSITO|             Salário|\n",
      "|          30|    2024-07-27|2750.75|      DEPOSITO|             Salário|\n",
      "|          14|    2024-07-09|-200.22|     PAGAMENTO|              Cinema|\n",
      "|          20|    2024-07-17|1000.65|      DEPOSITO|               Bônus|\n",
      "+------------+--------------+-------+--------------+--------------------+\n",
      "\n"
     ]
    }
   ],
   "source": [
    "# Criar DataFrame com os novos dados usando o mesmo esquema\n",
    "novos_dados_df = spark.createDataFrame(novos_dados, novos_dados_schema)\n",
    "\n",
    "# Converter a coluna 'data_transacao' para o tipo DateType\n",
    "novos_dados_df = novos_dados_df.withColumn(\"data_transacao\", novos_dados_df[\"data_transacao\"].cast(DateType()))\n",
    "\n",
    "# Adicionar os novos dados à tabela Delta\n",
    "novos_dados_df.write.format(\"delta\").mode(\"append\").option(\"mergeSchema\", \"true\").save(delta_caminho)\n",
    "\n",
    "# Ler a tabela Delta atualizada\n",
    "df_delta_atualizado = spark.read.format(\"delta\").load(delta_caminho)\n",
    "\n",
    "# Mostrar os dados carregados da tabela Delta atualizada\n",
    "print(\"DataFrame Carregado da Tabela Delta Atualizada:\")\n",
    "df_delta_atualizado.show()"
   ]
  },
  {
   "cell_type": "markdown",
   "id": "fc01e556-3ecb-4b66-a496-f076dc4fc3eb",
   "metadata": {},
   "source": [
    "# Bloco 10"
   ]
  },
  {
   "cell_type": "code",
   "execution_count": 25,
   "id": "b91b7549-9e4b-4dde-b406-20058ded1b01",
   "metadata": {},
   "outputs": [
    {
     "name": "stdout",
     "output_type": "stream",
     "text": [
      "Transações com Valor Acima de 1000:\n",
      "+------------+--------------+-------+--------------+--------------------+\n",
      "|id_transacao|data_transacao|  valor|tipo_transacao|           descricao|\n",
      "+------------+--------------+-------+--------------+--------------------+\n",
      "|          28|    2024-07-25| 2000.1| TRANSFERENCIA|Transferência de ...|\n",
      "|          37|    2024-08-03| 2150.6| TRANSFERENCIA|Transferência par...|\n",
      "|           4|    2024-07-03|2000.78| TRANSFERENCIA|Transferência par...|\n",
      "|          22|    2024-07-19| 2200.8| TRANSFERENCIA|Transferência par...|\n",
      "|          15|    2024-07-12|1800.75| TRANSFERENCIA|Transferência de ...|\n",
      "|          34|    2024-08-01|1600.95|      DEPOSITO| Depósito de Salário|\n",
      "|           1|    2024-07-01|1500.45|      DEPOSITO| Depósito de Salário|\n",
      "|          40|    2024-08-05| 2650.4|      DEPOSITO| Pagamento Freelance|\n",
      "|           7|    2024-07-05|2500.89|      DEPOSITO| Pagamento Freelance|\n",
      "|          48|    2024-08-10|1350.45|      DEPOSITO|    Reembolso Médico|\n",
      "|          11|    2024-07-08|3000.95|      DEPOSITO|         Bônus Anual|\n",
      "|          44|    2024-08-08|3300.75|      DEPOSITO|         Bônus Anual|\n",
      "|          11|    2024-07-08|3200.99|      DEPOSITO|             Salário|\n",
      "|          30|    2024-07-27|2750.75|      DEPOSITO|             Salário|\n",
      "|          20|    2024-07-17|1000.65|      DEPOSITO|               Bônus|\n",
      "+------------+--------------+-------+--------------+--------------------+\n",
      "\n"
     ]
    }
   ],
   "source": [
    "# Realizar consulta para selecionar todas as transações com valor acima de 1000\n",
    "transacoes_acima_1000 = df_delta_atualizado.filter(df_delta_atualizado[\"valor\"] > 1000)\n",
    "\n",
    "# Mostrar os dados filtrados\n",
    "print(\"Transações com Valor Acima de 1000:\")\n",
    "transacoes_acima_1000.show()"
   ]
  },
  {
   "cell_type": "markdown",
   "id": "720509ac-942b-4fd2-8884-30cc08898e9f",
   "metadata": {},
   "source": [
    "# Bloco 11"
   ]
  },
  {
   "cell_type": "code",
   "execution_count": 29,
   "id": "15000fec-85a5-41fb-bd70-638e3f98a3e2",
   "metadata": {},
   "outputs": [
    {
     "name": "stdout",
     "output_type": "stream",
     "text": [
      "Transações Agrupadas por Tipo e Soma dos Valores:\n",
      "+--------------+------------------+\n",
      "|tipo_transacao|       total_valor|\n",
      "+--------------+------------------+\n",
      "| TRANSFERENCIA|10953.779999999999|\n",
      "|      DEPOSITO|22857.230000000003|\n",
      "|     PAGAMENTO|           -350.62|\n",
      "+--------------+------------------+\n",
      "\n"
     ]
    }
   ],
   "source": [
    "# Agrupar transações por tipo e somar os valores\n",
    "agrupado_por_tipo = df_delta_atualizado.groupBy(\"tipo_transacao\").agg(sum(\"valor\").alias(\"total_valor\"))\n",
    "\n",
    "# Mostrar os dados agrupados\n",
    "print(\"Transações Agrupadas por Tipo e Soma dos Valores:\")\n",
    "agrupado_por_tipo.show()"
   ]
  }
 ],
 "metadata": {
  "kernelspec": {
   "display_name": "Python 3 (ipykernel)",
   "language": "python",
   "name": "python3"
  },
  "language_info": {
   "codemirror_mode": {
    "name": "ipython",
    "version": 3
   },
   "file_extension": ".py",
   "mimetype": "text/x-python",
   "name": "python",
   "nbconvert_exporter": "python",
   "pygments_lexer": "ipython3",
   "version": "3.11.6"
  }
 },
 "nbformat": 4,
 "nbformat_minor": 5
}
